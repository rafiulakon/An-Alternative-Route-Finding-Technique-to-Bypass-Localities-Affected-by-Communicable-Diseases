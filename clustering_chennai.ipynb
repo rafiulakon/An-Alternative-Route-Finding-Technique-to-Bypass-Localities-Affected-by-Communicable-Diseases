{
  "nbformat": 4,
  "nbformat_minor": 0,
  "metadata": {
    "colab": {
      "name": "clustering_chennai.ipynb",
      "provenance": [],
      "collapsed_sections": []
    },
    "kernelspec": {
      "name": "python3",
      "display_name": "Python 3"
    }
  },
  "cells": [
    {
      "cell_type": "code",
      "metadata": {
        "id": "WHAHfbSWcWX6"
      },
      "source": [
        "import pandas as pd, numpy as np, matplotlib.pyplot as plt, time\n",
        "from sklearn.cluster import DBSCAN,KMeans\n",
        "from geopy.distance import great_circle\n",
        "from shapely.geometry import MultiPoint\n",
        "from functools import reduce"
      ],
      "execution_count": null,
      "outputs": []
    },
    {
      "cell_type": "code",
      "metadata": {
        "id": "idD3Frluck2N",
        "colab": {
          "base_uri": "https://localhost:8080/",
          "height": 419
        },
        "outputId": "23dee459-83c2-4270-f654-ad8f8ab33981"
      },
      "source": [
        "# reading the data file\n",
        "df = pd.read_csv('testing_data_chennai.csv')\n",
        "display(df)\n",
        "X = df.to_numpy()"
      ],
      "execution_count": null,
      "outputs": [
        {
          "output_type": "display_data",
          "data": {
            "text/html": [
              "<div>\n",
              "<style scoped>\n",
              "    .dataframe tbody tr th:only-of-type {\n",
              "        vertical-align: middle;\n",
              "    }\n",
              "\n",
              "    .dataframe tbody tr th {\n",
              "        vertical-align: top;\n",
              "    }\n",
              "\n",
              "    .dataframe thead th {\n",
              "        text-align: right;\n",
              "    }\n",
              "</style>\n",
              "<table border=\"1\" class=\"dataframe\">\n",
              "  <thead>\n",
              "    <tr style=\"text-align: right;\">\n",
              "      <th></th>\n",
              "      <th>lng</th>\n",
              "      <th>lat</th>\n",
              "    </tr>\n",
              "  </thead>\n",
              "  <tbody>\n",
              "    <tr>\n",
              "      <th>0</th>\n",
              "      <td>80.222310</td>\n",
              "      <td>13.074261</td>\n",
              "    </tr>\n",
              "    <tr>\n",
              "      <th>1</th>\n",
              "      <td>80.218900</td>\n",
              "      <td>13.077467</td>\n",
              "    </tr>\n",
              "    <tr>\n",
              "      <th>2</th>\n",
              "      <td>80.220347</td>\n",
              "      <td>13.075223</td>\n",
              "    </tr>\n",
              "    <tr>\n",
              "      <th>3</th>\n",
              "      <td>80.223502</td>\n",
              "      <td>13.073548</td>\n",
              "    </tr>\n",
              "    <tr>\n",
              "      <th>4</th>\n",
              "      <td>80.222569</td>\n",
              "      <td>13.076430</td>\n",
              "    </tr>\n",
              "    <tr>\n",
              "      <th>...</th>\n",
              "      <td>...</td>\n",
              "      <td>...</td>\n",
              "    </tr>\n",
              "    <tr>\n",
              "      <th>1895</th>\n",
              "      <td>80.194569</td>\n",
              "      <td>13.113041</td>\n",
              "    </tr>\n",
              "    <tr>\n",
              "      <th>1896</th>\n",
              "      <td>80.219928</td>\n",
              "      <td>13.130711</td>\n",
              "    </tr>\n",
              "    <tr>\n",
              "      <th>1897</th>\n",
              "      <td>80.248042</td>\n",
              "      <td>13.114009</td>\n",
              "    </tr>\n",
              "    <tr>\n",
              "      <th>1898</th>\n",
              "      <td>80.257501</td>\n",
              "      <td>13.131415</td>\n",
              "    </tr>\n",
              "    <tr>\n",
              "      <th>1899</th>\n",
              "      <td>80.218817</td>\n",
              "      <td>13.120625</td>\n",
              "    </tr>\n",
              "  </tbody>\n",
              "</table>\n",
              "<p>1900 rows × 2 columns</p>\n",
              "</div>"
            ],
            "text/plain": [
              "            lng        lat\n",
              "0     80.222310  13.074261\n",
              "1     80.218900  13.077467\n",
              "2     80.220347  13.075223\n",
              "3     80.223502  13.073548\n",
              "4     80.222569  13.076430\n",
              "...         ...        ...\n",
              "1895  80.194569  13.113041\n",
              "1896  80.219928  13.130711\n",
              "1897  80.248042  13.114009\n",
              "1898  80.257501  13.131415\n",
              "1899  80.218817  13.120625\n",
              "\n",
              "[1900 rows x 2 columns]"
            ]
          },
          "metadata": {
            "tags": []
          }
        }
      ]
    },
    {
      "cell_type": "code",
      "metadata": {
        "id": "xjnlILizqMSv",
        "colab": {
          "base_uri": "https://localhost:8080/"
        },
        "outputId": "1159d1f4-b1ed-48b6-a2de-2d2b67b576c1"
      },
      "source": [
        "kms_per_radian = 6371.0088\n",
        "\n",
        "epsilon = 0.28 / kms_per_radian # 40 mitre cluster\n",
        "db = DBSCAN(eps=epsilon, min_samples=10, algorithm='ball_tree', metric='euclidean').fit(np.radians(X))\n",
        "\n",
        "cluster_labels = db.labels_\n",
        "final = np.concatenate((X,cluster_labels.reshape(-1,1)),axis=1)\n",
        "print(final)\n",
        "\n",
        "num_clusters = len(set(cluster_labels)) - (1 if -1 in cluster_labels else 0)\n",
        "num_noise_ = list(cluster_labels).count(-1)\n",
        "clusters = pd.Series([X[cluster_labels == n] for n in range(num_clusters)])\n",
        "print('Number of clusters: {}'.format(num_clusters))\n",
        "print('Number of noise: {}'.format(num_noise_))"
      ],
      "execution_count": null,
      "outputs": [
        {
          "output_type": "stream",
          "text": [
            "[[80.22231013 13.07426133  0.        ]\n",
            " [80.21890039 13.07746726  1.        ]\n",
            " [80.22034684 13.07522299  0.        ]\n",
            " ...\n",
            " [80.2480417  13.11400878 -1.        ]\n",
            " [80.25750136 13.13141513 -1.        ]\n",
            " [80.21881666 13.12062508 -1.        ]]\n",
            "Number of clusters: 12\n",
            "Number of noise: 573\n"
          ],
          "name": "stdout"
        }
      ]
    },
    {
      "cell_type": "code",
      "metadata": {
        "colab": {
          "base_uri": "https://localhost:8080/"
        },
        "id": "Lio61YR3MwE9",
        "outputId": "68c680fb-cc3c-4528-9af3-d9e671d5b5dc"
      },
      "source": [
        "X_exc_noise=[]\n",
        "for i in range(len(cluster_labels)):\n",
        "      if cluster_labels[i] != -1:\n",
        "          X_exc_noise.append(X[i])\n",
        "X_exc_noise=np.array(X_exc_noise)\n",
        "print(len(X_exc_noise))\n",
        "kmeans = KMeans(n_clusters = num_clusters, init ='k-means++',random_state=3)\n",
        "kmeans.fit(X_exc_noise) # Compute k-means clustering.\n",
        "cluster_labels=kmeans.labels_\n",
        "final = np.concatenate((X_exc_noise,cluster_labels.reshape(-1,1)),axis=1)\n",
        "print(final)\n",
        "np.savetxt(\"corresponding_clusters_chennai.csv\",final,fmt='%3.5f',delimiter=',')\n",
        "num_clusters = len(set(cluster_labels)) - (1 if -1 in cluster_labels else 0)\n",
        "num_noise_ = list(cluster_labels).count(-1)\n",
        "clusters = pd.Series([X_exc_noise[cluster_labels == n] for n in range(num_clusters)])\n",
        "print('Number of clusters: {}'.format(num_clusters))\n",
        "print('Number of noise: {}'.format(num_noise_))"
      ],
      "execution_count": null,
      "outputs": [
        {
          "output_type": "stream",
          "text": [
            "1327\n",
            "[[80.22231013 13.07426133  9.        ]\n",
            " [80.21890039 13.07746726  9.        ]\n",
            " [80.22034684 13.07522299  9.        ]\n",
            " ...\n",
            " [80.2817046  13.1281877   6.        ]\n",
            " [80.2843912  13.11690463  6.        ]\n",
            " [80.23605072 13.11880548  1.        ]]\n",
            "Number of clusters: 12\n",
            "Number of noise: 0\n"
          ],
          "name": "stdout"
        }
      ]
    },
    {
      "cell_type": "code",
      "metadata": {
        "id": "tVuai_Z5VBkX"
      },
      "source": [
        "centroidspts=kmeans.cluster_centers_\n",
        "np.savetxt(\"centroids_chennai.csv\",centroidspts,fmt='%2.5f',delimiter=',')"
      ],
      "execution_count": null,
      "outputs": []
    },
    {
      "cell_type": "code",
      "metadata": {
        "id": "r8rkfC85pXhP"
      },
      "source": [
        "# Graham Scan Algorithm\n",
        "from matplotlib import pyplot as plt\n",
        "from random import randint\n",
        "from math import atan2\n",
        "\n",
        "def scatter_plot(coords,convex_hull=None):\n",
        "    xs,ys=zip(*coords)\n",
        "    plt.scatter(xs,ys) \n",
        "\n",
        "    if convex_hull!=None:\n",
        "\n",
        "        for i in range(1,len(convex_hull)+1):\n",
        "            if i==len(convex_hull): i=0 # wrap\n",
        "            c0=convex_hull[i-1]\n",
        "            c1=convex_hull[i]\n",
        "            plt.plot((c0[0],c1[0]),(c0[1],c1[1]),'r')\n",
        "    plt.show()\n",
        "\n",
        "\n",
        "def polar_angle(p0,p1=None):\n",
        "    if p1==None: p1=anchor\n",
        "    y_span=p0[1]-p1[1]\n",
        "    x_span=p0[0]-p1[0]\n",
        "    return atan2(y_span,x_span)\n",
        "\n",
        "def distance(p0,p1=None):\n",
        "    if p1==None: p1=anchor\n",
        "    y_span=p0[1]-p1[1]\n",
        "    x_span=p0[0]-p1[0]\n",
        "    return y_span**2 + x_span**2\n",
        "\n",
        "def det(p1,p2,p3):\n",
        "    return   (p2[0]-p1[0])*(p3[1]-p1[1]) \\\n",
        "            -(p2[1]-p1[1])*(p3[0]-p1[0])\n",
        "\n",
        "\n",
        "def quicksort(a):\n",
        "    if len(a)<=1: return a\n",
        "    smaller,equal,larger=[],[],[]\n",
        "    piv_ang=polar_angle(a[randint(0,len(a)-1)]) # select random pivot\n",
        "    for pt in a:\n",
        "        pt_ang=polar_angle(pt) # calculate current point angle\n",
        "        if   pt_ang<piv_ang:  smaller.append(pt)\n",
        "        elif pt_ang==piv_ang: equal.append(pt)\n",
        "        else: \t\t\t\t  larger.append(pt)\n",
        "    return   quicksort(smaller) \\\n",
        "            +sorted(equal,key=distance) \\\n",
        "            +quicksort(larger)\n",
        "\n",
        "\n",
        "def graham_scan(points,show_progress=False):\n",
        "    points = points.tolist()\n",
        "    global anchor\n",
        "    min_idx=None\n",
        "    for i,(x,y) in enumerate(points):\n",
        "        if min_idx==None or y<points[min_idx][1]:\n",
        "            min_idx=i\n",
        "        if y==points[min_idx][1] and x<points[min_idx][0]:\n",
        "            min_idx=i\n",
        "\n",
        "    anchor=points[min_idx]\n",
        "\n",
        "    sorted_pts=quicksort(points)\n",
        "    del sorted_pts[sorted_pts.index(anchor)]\n",
        "\n",
        "    hull=[anchor,sorted_pts[0]]\n",
        "    for s in sorted_pts[1:]:\n",
        "        while det(hull[-2],hull[-1],s)<=0:\n",
        "            del hull[-1] \n",
        "        hull.append(s)\n",
        "        if show_progress: scatter_plot(points,hull)\n",
        "    return hull\n",
        "\n",
        "\n",
        "boundary_points = []\n",
        "for i in range(num_clusters):\n",
        "    hull = graham_scan(clusters[i])\n",
        "    boundary_points.append(hull)\n",
        "\n",
        "boundary_points = pd.Series(boundary_points)\n",
        "boundary_points.to_csv(\"boundary_chennai.csv\")\n"
      ],
      "execution_count": null,
      "outputs": []
    }
  ]
}