{
  "nbformat": 4,
  "nbformat_minor": 0,
  "metadata": {
    "colab": {
      "name": "clustering_kolkata.ipynb",
      "provenance": [],
      "collapsed_sections": []
    },
    "kernelspec": {
      "name": "python3",
      "display_name": "Python 3"
    }
  },
  "cells": [
    {
      "cell_type": "code",
      "metadata": {
        "id": "WHAHfbSWcWX6"
      },
      "source": [
        "import pandas as pd, numpy as np, matplotlib.pyplot as plt, time\n",
        "from sklearn.cluster import DBSCAN,KMeans\n",
        "from geopy.distance import great_circle\n",
        "from shapely.geometry import MultiPoint\n",
        "from functools import reduce"
      ],
      "execution_count": null,
      "outputs": []
    },
    {
      "cell_type": "code",
      "metadata": {
        "id": "idD3Frluck2N",
        "colab": {
          "base_uri": "https://localhost:8080/",
          "height": 419
        },
        "outputId": "7ee9b2da-a7ae-4508-8447-3eaa66634656"
      },
      "source": [
        "df = pd.read_csv('testing_data_kolkata.csv')\n",
        "display(df)\n",
        "X = df.to_numpy()"
      ],
      "execution_count": null,
      "outputs": [
        {
          "output_type": "display_data",
          "data": {
            "text/html": [
              "<div>\n",
              "<style scoped>\n",
              "    .dataframe tbody tr th:only-of-type {\n",
              "        vertical-align: middle;\n",
              "    }\n",
              "\n",
              "    .dataframe tbody tr th {\n",
              "        vertical-align: top;\n",
              "    }\n",
              "\n",
              "    .dataframe thead th {\n",
              "        text-align: right;\n",
              "    }\n",
              "</style>\n",
              "<table border=\"1\" class=\"dataframe\">\n",
              "  <thead>\n",
              "    <tr style=\"text-align: right;\">\n",
              "      <th></th>\n",
              "      <th>lng</th>\n",
              "      <th>lat</th>\n",
              "    </tr>\n",
              "  </thead>\n",
              "  <tbody>\n",
              "    <tr>\n",
              "      <th>0</th>\n",
              "      <td>88.359346</td>\n",
              "      <td>22.581857</td>\n",
              "    </tr>\n",
              "    <tr>\n",
              "      <th>1</th>\n",
              "      <td>88.357300</td>\n",
              "      <td>22.583780</td>\n",
              "    </tr>\n",
              "    <tr>\n",
              "      <th>2</th>\n",
              "      <td>88.358168</td>\n",
              "      <td>22.582434</td>\n",
              "    </tr>\n",
              "    <tr>\n",
              "      <th>3</th>\n",
              "      <td>88.360061</td>\n",
              "      <td>22.581429</td>\n",
              "    </tr>\n",
              "    <tr>\n",
              "      <th>4</th>\n",
              "      <td>88.359501</td>\n",
              "      <td>22.583158</td>\n",
              "    </tr>\n",
              "    <tr>\n",
              "      <th>...</th>\n",
              "      <td>...</td>\n",
              "      <td>...</td>\n",
              "    </tr>\n",
              "    <tr>\n",
              "      <th>2635</th>\n",
              "      <td>88.450134</td>\n",
              "      <td>22.570409</td>\n",
              "    </tr>\n",
              "    <tr>\n",
              "      <th>2636</th>\n",
              "      <td>88.456384</td>\n",
              "      <td>22.569266</td>\n",
              "    </tr>\n",
              "    <tr>\n",
              "      <th>2637</th>\n",
              "      <td>88.453252</td>\n",
              "      <td>22.579073</td>\n",
              "    </tr>\n",
              "    <tr>\n",
              "      <th>2638</th>\n",
              "      <td>88.459970</td>\n",
              "      <td>22.578520</td>\n",
              "    </tr>\n",
              "    <tr>\n",
              "      <th>2639</th>\n",
              "      <td>88.460913</td>\n",
              "      <td>22.577562</td>\n",
              "    </tr>\n",
              "  </tbody>\n",
              "</table>\n",
              "<p>2640 rows × 2 columns</p>\n",
              "</div>"
            ],
            "text/plain": [
              "            lng        lat\n",
              "0     88.359346  22.581857\n",
              "1     88.357300  22.583780\n",
              "2     88.358168  22.582434\n",
              "3     88.360061  22.581429\n",
              "4     88.359501  22.583158\n",
              "...         ...        ...\n",
              "2635  88.450134  22.570409\n",
              "2636  88.456384  22.569266\n",
              "2637  88.453252  22.579073\n",
              "2638  88.459970  22.578520\n",
              "2639  88.460913  22.577562\n",
              "\n",
              "[2640 rows x 2 columns]"
            ]
          },
          "metadata": {
            "tags": []
          }
        }
      ]
    },
    {
      "cell_type": "code",
      "metadata": {
        "id": "xjnlILizqMSv",
        "colab": {
          "base_uri": "https://localhost:8080/"
        },
        "outputId": "5d23da81-55a3-474b-f70a-35aad2ab8f23"
      },
      "source": [
        "kms_per_radian = 6371.0088\n",
        "\n",
        "epsilon = 0.36 / kms_per_radian # 40 mitre cluster\n",
        "db = DBSCAN(eps=epsilon, min_samples=25, algorithm='ball_tree', metric='euclidean').fit(np.radians(X)) \n",
        "\n",
        "cluster_labels = db.labels_\n",
        "final = np.concatenate((X,cluster_labels.reshape(-1,1)),axis=1)\n",
        "print(final)\n",
        "\n",
        "num_clusters = len(set(cluster_labels)) - (1 if -1 in cluster_labels else 0)\n",
        "num_noise_ = list(cluster_labels).count(-1)\n",
        "clusters = pd.Series([X[cluster_labels == n] for n in range(num_clusters)])\n",
        "print('Number of clusters: {}'.format(num_clusters))\n",
        "print('Number of noise: {}'.format(num_noise_))"
      ],
      "execution_count": null,
      "outputs": [
        {
          "output_type": "stream",
          "text": [
            "[[88.35934608 22.5818568  -1.        ]\n",
            " [88.35730024 22.58378035  0.        ]\n",
            " [88.35816811 22.58243379  0.        ]\n",
            " ...\n",
            " [88.45325158 22.57907331 -1.        ]\n",
            " [88.45997011 22.57852012 -1.        ]\n",
            " [88.46091266 22.57756217 -1.        ]]\n",
            "Number of clusters: 11\n",
            "Number of noise: 1074\n"
          ],
          "name": "stdout"
        }
      ]
    },
    {
      "cell_type": "code",
      "metadata": {
        "colab": {
          "base_uri": "https://localhost:8080/"
        },
        "id": "Lio61YR3MwE9",
        "outputId": "ac27d1da-5f5f-4fbc-fdc3-7bcb71bcffec"
      },
      "source": [
        "X_exc_noise=[]\n",
        "for i in range(len(cluster_labels)):\n",
        "      if cluster_labels[i] != -1:\n",
        "          X_exc_noise.append(X[i])\n",
        "X_exc_noise=np.array(X_exc_noise)\n",
        "print(len(X_exc_noise))\n",
        "kmeans = KMeans(n_clusters = num_clusters, init ='k-means++',random_state=3)\n",
        "kmeans.fit(X_exc_noise) # Compute k-means clustering.\n",
        "cluster_labels=kmeans.labels_\n",
        "final = np.concatenate((X_exc_noise,cluster_labels.reshape(-1,1)),axis=1)\n",
        "print(final)\n",
        "np.savetxt(\"corresponding_clusters_kolkata.csv\",final,fmt='%3.5f',delimiter=',')\n",
        "num_clusters = len(set(cluster_labels)) - (1 if -1 in cluster_labels else 0)\n",
        "num_noise_ = list(cluster_labels).count(-1)\n",
        "clusters = pd.Series([X_exc_noise[cluster_labels == n] for n in range(num_clusters)])\n",
        "print('Number of clusters: {}'.format(num_clusters))\n",
        "print('Number of noise: {}'.format(num_noise_))"
      ],
      "execution_count": null,
      "outputs": [
        {
          "output_type": "stream",
          "text": [
            "1566\n",
            "[[88.35730024 22.58378035 10.        ]\n",
            " [88.35816811 22.58243379 10.        ]\n",
            " [88.35523408 22.5838425  10.        ]\n",
            " ...\n",
            " [88.48263697 22.57908654  0.        ]\n",
            " [88.47967371 22.55645835  0.        ]\n",
            " [88.47954201 22.56124858  0.        ]]\n",
            "Number of clusters: 11\n",
            "Number of noise: 0\n"
          ],
          "name": "stdout"
        }
      ]
    },
    {
      "cell_type": "code",
      "metadata": {
        "id": "tVuai_Z5VBkX"
      },
      "source": [
        "centroidspts=kmeans.cluster_centers_\n",
        "np.savetxt(\"centroids_kolkata.csv\",centroidspts,fmt='%2.5f',delimiter=',')"
      ],
      "execution_count": null,
      "outputs": []
    },
    {
      "cell_type": "code",
      "metadata": {
        "id": "r8rkfC85pXhP"
      },
      "source": [
        "# Graham Scan Algorithm\n",
        "from matplotlib import pyplot as plt\n",
        "from random import randint\n",
        "from math import atan2\n",
        "\n",
        "def scatter_plot(coords,convex_hull=None):\n",
        "    xs,ys=zip(*coords)\n",
        "    plt.scatter(xs,ys) \n",
        "\n",
        "    if convex_hull!=None:\n",
        "\n",
        "        for i in range(1,len(convex_hull)+1):\n",
        "            if i==len(convex_hull): i=0 # wrap\n",
        "            c0=convex_hull[i-1]\n",
        "            c1=convex_hull[i]\n",
        "            plt.plot((c0[0],c1[0]),(c0[1],c1[1]),'r')\n",
        "    plt.show()\n",
        "\n",
        "\n",
        "def polar_angle(p0,p1=None):\n",
        "    if p1==None: p1=anchor\n",
        "    y_span=p0[1]-p1[1]\n",
        "    x_span=p0[0]-p1[0]\n",
        "    return atan2(y_span,x_span)\n",
        "\n",
        "def distance(p0,p1=None):\n",
        "    if p1==None: p1=anchor\n",
        "    y_span=p0[1]-p1[1]\n",
        "    x_span=p0[0]-p1[0]\n",
        "    return y_span**2 + x_span**2\n",
        "\n",
        "def det(p1,p2,p3):\n",
        "    return   (p2[0]-p1[0])*(p3[1]-p1[1]) \\\n",
        "            -(p2[1]-p1[1])*(p3[0]-p1[0])\n",
        "\n",
        "\n",
        "def quicksort(a):\n",
        "    if len(a)<=1: return a\n",
        "    smaller,equal,larger=[],[],[]\n",
        "    piv_ang=polar_angle(a[randint(0,len(a)-1)]) # select random pivot\n",
        "    for pt in a:\n",
        "        pt_ang=polar_angle(pt) # calculate current point angle\n",
        "        if   pt_ang<piv_ang:  smaller.append(pt)\n",
        "        elif pt_ang==piv_ang: equal.append(pt)\n",
        "        else: \t\t\t\t  larger.append(pt)\n",
        "    return   quicksort(smaller) \\\n",
        "            +sorted(equal,key=distance) \\\n",
        "            +quicksort(larger)\n",
        "\n",
        "\n",
        "def graham_scan(points,show_progress=False):\n",
        "    points = points.tolist()\n",
        "    global anchor\n",
        "    min_idx=None\n",
        "    for i,(x,y) in enumerate(points):\n",
        "        if min_idx==None or y<points[min_idx][1]:\n",
        "            min_idx=i\n",
        "        if y==points[min_idx][1] and x<points[min_idx][0]:\n",
        "            min_idx=i\n",
        "\n",
        "    anchor=points[min_idx]\n",
        "\n",
        "    sorted_pts=quicksort(points)\n",
        "    del sorted_pts[sorted_pts.index(anchor)]\n",
        "\n",
        "    hull=[anchor,sorted_pts[0]]\n",
        "    for s in sorted_pts[1:]:\n",
        "        while det(hull[-2],hull[-1],s)<=0:\n",
        "            del hull[-1] \n",
        "        hull.append(s)\n",
        "        if show_progress: scatter_plot(points,hull)\n",
        "    return hull\n",
        "\n",
        "\n",
        "boundary_points = []\n",
        "for i in range(num_clusters):\n",
        "    hull = graham_scan(clusters[i])\n",
        "    boundary_points.append(hull)\n",
        "\n",
        "boundary_points = pd.Series(boundary_points)\n",
        "boundary_points.to_csv(\"boundary_kolkata.csv\")\n"
      ],
      "execution_count": null,
      "outputs": []
    }
  ]
}